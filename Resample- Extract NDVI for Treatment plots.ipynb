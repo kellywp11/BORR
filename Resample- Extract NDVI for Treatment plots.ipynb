{
 "cells": [
  {
   "cell_type": "code",
   "execution_count": 1,
   "metadata": {},
   "outputs": [],
   "source": [
    "### import libraries\n",
    "import os\n",
    "import pandas as pd\n",
    "import numpy as np\n",
    "import math\n",
    "import arcpy\n",
    "from arcpy import env\n",
    "from arcpy.sa import *\n",
    "import matplotlib.pyplot as plt\n",
    "\n",
    "# Check out the ArcGIS Spatial Analyst extension license\n",
    "arcpy.CheckOutExtension(\"Spatial\")\n",
    "\n",
    "# Allow ArcGIS to overwrite files with same file name\n",
    "arcpy.env.overwriteOutput = True"
   ]
  },
  {
   "cell_type": "markdown",
   "metadata": {},
   "source": [
    "Set workspace directory with the data"
   ]
  },
  {
   "cell_type": "code",
   "execution_count": 2,
   "metadata": {},
   "outputs": [
    {
     "name": "stdout",
     "output_type": "stream",
     "text": [
      "H:\\BORR\\Analysis\\Multispectral\\Composite\n"
     ]
    }
   ],
   "source": [
    "### set workspace\n",
    "direc = r\"H:\\BORR\\Analysis\\Multispectral\\Composite\"\n",
    "\n",
    "arcpy.env.workspace = direc\n",
    "print(direc)"
   ]
  },
  {
   "cell_type": "markdown",
   "metadata": {},
   "source": [
    "Read in the shapefile of the Study Area "
   ]
  },
  {
   "cell_type": "code",
   "execution_count": 3,
   "metadata": {},
   "outputs": [],
   "source": [
    "### read in data\n",
    "\n",
    "# plots shp file\n",
    "plots = r\"F:\\BORR\\Analysis\\StudyArea_ext.shp\""
   ]
  },
  {
   "cell_type": "markdown",
   "metadata": {},
   "source": [
    "This section extracts the spatial resolution from each of the flights and sets the resample resolution to the maximum resoltuion"
   ]
  },
  {
   "cell_type": "code",
   "execution_count": 4,
   "metadata": {},
   "outputs": [
    {
     "name": "stdout",
     "output_type": "stream",
     "text": [
      "[[  1.00000000e+00   1.20000000e+03   8.74300000e-02   8.74300000e-02]\n",
      " [  2.00000000e+00   1.31500000e+03   7.22300000e-02   7.22300000e-02]\n",
      " [  3.00000000e+00   1.41000000e+03   2.25000000e-02   2.25000000e-02]\n",
      " [  4.00000000e+00   1.51000000e+03   4.39500000e-02   4.39500000e-02]\n",
      " [  5.00000000e+00   8.17000000e+02   4.47200000e-02   4.47200000e-02]\n",
      " [  6.00000000e+00   9.32000000e+02   4.42500000e-02   4.42500000e-02]\n",
      " [  7.00000000e+00   1.01300000e+03   4.47700000e-02   4.47700000e-02]\n",
      " [  8.00000000e+00   1.11000000e+03   4.49700000e-02   4.49700000e-02]\n",
      " [  9.00000000e+00   1.21000000e+03   4.47100000e-02   4.47100000e-02]\n",
      " [  1.00000000e+01   1.32400000e+03   4.42400000e-02   4.42400000e-02]\n",
      " [  1.10000000e+01   1.41000000e+03   4.40100000e-02   4.40100000e-02]\n",
      " [  1.20000000e+01   1.51000000e+03   4.36500000e-02   4.36500000e-02]]\n",
      "resample size set to: 0.08743\n"
     ]
    }
   ],
   "source": [
    "### get pixel_x and pixel_y resolutions as table\n",
    "### set variable for max resolution\n",
    "\n",
    "# list rasters in directory\n",
    "raslist = arcpy.ListRasters(\"*composite.tif\", \"TIF\")  \n",
    "\n",
    "# create empty numpy.array\n",
    "nrow = len(raslist)          # the number of rows wanted in array, equal to # of rasters in list\n",
    "ncol = 4                     # the number of cols wanted in array\n",
    "s = (nrow,ncol)              # temp variable setting # of rows and cols\n",
    "res_table = np.zeros(s)      # create table of '0's\n",
    "del nrow                     # delete temp variables\n",
    "del ncol                     # delete temp variables\n",
    "del s                        # delete temp variables\n",
    "\n",
    "# set empty row counter variable\n",
    "rc = 0\n",
    "for ras in raslist:\n",
    "    \n",
    "    #print(\"loop for raster:\", ras)\n",
    "    \n",
    "    # update resolution table col #0 w/ flight # from file path\n",
    "    t = ras.split('F')[1]  # t = temp variable to store flight #\n",
    "    t = t.split('_')[0]\n",
    "    res_table[rc,0] = t\n",
    "    del t                 # clear temporary 't' variable\n",
    "    \n",
    "    # update resolution table col #1 w/ flight time\n",
    "    t = ras.split('_')[1]  # t = temp variable to store time in\n",
    "    res_table[rc,1] = t\n",
    "    del t                 # clear temporary 't' variable\n",
    "    \n",
    "    # update resolution table col #1 w/ pixel x resolution\n",
    "    x_result = arcpy.GetRasterProperties_management (ras, \"CELLSIZEX\")\n",
    "    x = x_result.getOutput(0)\n",
    "    res_table[rc,2] = x\n",
    "    \n",
    "    # update resolution table col #2 w/ pixel y resolution\n",
    "    y_result = arcpy.GetRasterProperties_management (ras, \"CELLSIZEY\")\n",
    "    y = y_result.getOutput(0)\n",
    "    res_table[rc,3] = y\n",
    "    \n",
    "    # update row counter\n",
    "    rc = rc + 1\n",
    "    \n",
    "# delete temp variables\n",
    "del rc\n",
    "del x_result\n",
    "del x\n",
    "del y_result\n",
    "del y\n",
    "\n",
    "### display raster pixel size (or resolution) table, note that:\n",
    "  #                          col #0 = flight id from file name\n",
    "  #                          col #1 = fight time from file name\n",
    "  #                          col #2 = pixel x resolution\n",
    "  #                          col #3 = pixel y resolution\n",
    "print(res_table)\n",
    "\n",
    "### get max value of each column in resolution table\n",
    "res_table_max = np.max(res_table, axis=0)\n",
    "res_table_max = res_table_max[2:4]\n",
    "res_max = np.max(res_table_max)\n",
    "print('resample size set to:', res_max)"
   ]
  },
  {
   "cell_type": "markdown",
   "metadata": {},
   "source": [
    "This section takes the resolution set above, resamples all the rasters to that resolution using the Nearest resample operator and then clips the resampled raster to the individual treatments within the shapefiles extent"
   ]
  },
  {
   "cell_type": "code",
   "execution_count": 5,
   "metadata": {},
   "outputs": [
    {
     "name": "stdout",
     "output_type": "stream",
     "text": [
      "loop for raster: F01_1200_Multi_120m_composite.tif\n",
      "loop for raster: F02_1315_Multi_100m_composite.tif\n",
      "loop for raster: F03_1410_Multi_30m_composite.tif\n",
      "loop for raster: F04_1510_Multi_60m_composite.tif\n",
      "loop for raster: F05_0817_Multi_60m_composite.tif\n",
      "loop for raster: F06_0932_Multi_60m_composite.tif\n",
      "loop for raster: F07_1013_Multi_60m_composite.tif\n",
      "loop for raster: F08_1110_Multi_60m_composite.tif\n",
      "loop for raster: F09_1210_Multi_60m_composite.tif\n",
      "loop for raster: F10_1324_Multi_60m__composite.tif\n",
      "loop for raster: F11_1410_Multi_60m_composite.tif\n",
      "loop for raster: F12_1510_Multi_60m_composite.tif\n",
      "finished\n"
     ]
    }
   ],
   "source": [
    "### resample rasters all raster to max pixel size\n",
    "### clip resampled raster to plots of shapefile extent\n",
    "\n",
    "for ras in raslist:\n",
    "    print(\"loop for raster:\", ras)\n",
    "    \n",
    "    # resample raster\n",
    "    res_ras = ras.split('.tif')[0] + '_res.tif'                    # set file name for output file\n",
    "    arcpy.Resample_management(ras, res_ras, res_max, \"NEAREST\")    # set resample parameters\n",
    "    \n",
    "    # clip to output extent\n",
    "    msk_ras = res_ras.split('.tif')[0] + '_ext.tif'                # set file name for output files\n",
    "    out_raster = arcpy.sa.ExtractByMask(res_ras, plots);           # run extract by mask\n",
    "    out_raster.save(msk_ras)                                       # save clippped file\n",
    "    \n",
    "    # clear temp variables\n",
    "    del res_ras\n",
    "    del msk_ras\n",
    "    del out_raster\n",
    "\n",
    "print (\"finished\")\n",
    "# clear temp variables and lists\n",
    "del ras\n",
    "del raslist"
   ]
  },
  {
   "cell_type": "markdown",
   "metadata": {},
   "source": [
    "This section converts the shapefile to raster using the numid field where"
   ]
  },
  {
   "cell_type": "code",
   "execution_count": 10,
   "metadata": {},
   "outputs": [
    {
     "name": "stdout",
     "output_type": "stream",
     "text": [
      "['F01_1200_Multi_120m_composite_res_ext.tif', 'F02_1315_Multi_100m_composite_res_ext.tif', 'F03_1410_Multi_30m_composite_res_ext.tif', 'F04_1510_Multi_60m_composite_res_ext.tif', 'F05_0817_Multi_60m_composite_res_ext.tif', 'F06_0932_Multi_60m_composite_res_ext.tif', 'F07_1013_Multi_60m_composite_res_ext.tif', 'F08_1110_Multi_60m_composite_res_ext.tif', 'F09_1210_Multi_60m_composite_res_ext.tif', 'F10_1324_Multi_60m__composite_res_ext.tif', 'F11_1410_Multi_60m_composite_res_ext.tif', 'F12_1510_Multi_60m_composite_res_ext.tif']\n",
      "loop for raster: F01_1200_Multi_120m_composite_res_ext.tif\n",
      "loop for raster: F02_1315_Multi_100m_composite_res_ext.tif\n",
      "loop for raster: F03_1410_Multi_30m_composite_res_ext.tif\n",
      "loop for raster: F04_1510_Multi_60m_composite_res_ext.tif\n",
      "loop for raster: F05_0817_Multi_60m_composite_res_ext.tif\n",
      "loop for raster: F06_0932_Multi_60m_composite_res_ext.tif\n",
      "loop for raster: F07_1013_Multi_60m_composite_res_ext.tif\n",
      "loop for raster: F08_1110_Multi_60m_composite_res_ext.tif\n",
      "loop for raster: F09_1210_Multi_60m_composite_res_ext.tif\n",
      "loop for raster: F10_1324_Multi_60m__composite_res_ext.tif\n",
      "loop for raster: F11_1410_Multi_60m_composite_res_ext.tif\n",
      "loop for raster: F12_1510_Multi_60m_composite_res_ext.tif\n"
     ]
    }
   ],
   "source": [
    "# convert plots shp file to raster file for zonal stats calculation\n",
    "# plots .shp file must have \"numid\" field that identifies unique plot numeric identifier\n",
    "plots_ras = \"plots_ras.tif\"\n",
    "arcpy.conversion.PolygonToRaster(plots, \"numid\", plots_ras, \"CELL_CENTER\", \"NONE\", res_max)\n",
    "\n",
    "# create list of resampled and clipped raster files located in directory\n",
    "raslist = arcpy.ListRasters(\"*res_ext.tif\", \"TIF\")\n",
    "print(raslist)\n",
    "\n",
    "# loop through rasters\n",
    "for ras in raslist:\n",
    "    print(\"loop for raster:\", ras)\n",
    "    \n",
    "    # set ndvi as band6\n",
    "    #out_ndvi = ras+'/Band_6'\n",
    "    #Or recalculate ndvi after resampling\n",
    "    out_ndvi = (Raster(ras+'/Band_4') - Raster(ras+'/Band_3')) / (Raster(ras+'/Band_4') + Raster(ras+'/Band_3'))\n",
    "\n",
    "    \n",
    "    # calc zonal statistics as table\n",
    "    outdbf = ras.split('.tif')[0] + \"_ndvistat.dbf\"\n",
    "    arcpy.sa.ZonalStatisticsAsTable(plots_ras, \"Value\", out_ndvi, outdbf, \"DATA\", \"ALL\")\n",
    "    \n",
    "    # delete temp files and clear locks\n",
    "    del out_ndvi\n",
    "    del outdbf\n",
    "    "
   ]
  },
  {
   "cell_type": "code",
   "execution_count": 5,
   "metadata": {},
   "outputs": [
    {
     "name": "stdout",
     "output_type": "stream",
     "text": [
      "[[  1.00000000e+00   1.20000000e+03   2.70626982e-01   2.22934833e-01\n",
      "    2.06403409e-01   2.11635353e-01   2.25074994e-01   2.69386192e-01\n",
      "    2.33849286e-01   3.73392729e-01   3.67297801e-01   3.32850921e-01\n",
      "    5.03047271e-01   4.00419399e-01   4.38848571e-01   4.86998589e-01\n",
      "    4.99583057e-01   4.93633178e-01   4.45700101e-01]\n",
      " [  2.00000000e+00   1.31500000e+03   2.54775854e-01   2.15206250e-01\n",
      "    2.06617664e-01   2.02304099e-01   2.26962976e-01   2.61773284e-01\n",
      "    2.25689030e-01   3.59662619e-01   3.54405679e-01   3.10646686e-01\n",
      "    4.73601746e-01   4.27101911e-01   4.20613172e-01   4.91978617e-01\n",
      "    4.75101022e-01   4.76786530e-01   4.36978549e-01]\n",
      " [  3.00000000e+00   1.41000000e+03   2.60547165e-01   2.20933565e-01\n",
      "    1.91228287e-01   1.86162065e-01   1.79390512e-01   1.74038216e-01\n",
      "    2.18400627e-01   2.54177720e-01   1.77409588e-01   2.73705509e-01\n",
      "    3.29302148e-01   2.92969452e-01   3.43198193e-01   2.77992626e-01\n",
      "    4.67003586e-01   4.76685605e-01   4.15541522e-01]\n",
      " [  4.00000000e+00   1.51000000e+03   2.59021815e-01   2.31197447e-01\n",
      "    2.11729530e-01   2.03324541e-01   2.33295296e-01   2.70193398e-01\n",
      "    2.19917487e-01   3.54479212e-01   3.31868085e-01   2.98401858e-01\n",
      "    5.01238259e-01   4.70454258e-01   4.11298456e-01   5.23060607e-01\n",
      "    4.92160136e-01   4.96054188e-01   4.52554434e-01]\n",
      " [  5.00000000e+00   8.17000000e+02   3.21632790e-01   2.76906885e-01\n",
      "    2.29974054e-01   2.25897834e-01   2.28081135e-01   2.73284543e-01\n",
      "    2.39376090e-01   3.31102099e-01   3.35054518e-01   3.05256843e-01\n",
      "    5.56343807e-01   4.62118355e-01   4.23978854e-01   5.56955268e-01\n",
      "    5.57252000e-01   5.37742283e-01   4.88021758e-01]\n",
      " [  6.00000000e+00   9.32000000e+02   3.72863218e-01   3.39112354e-01\n",
      "    2.90087720e-01   3.15201149e-01   3.12491405e-01   3.64139852e-01\n",
      "    3.27158877e-01   3.88841869e-01   3.82981289e-01   3.64865765e-01\n",
      "    6.00785012e-01   4.72844908e-01   4.58461416e-01   5.79923135e-01\n",
      "    5.85396450e-01   5.61703463e-01   5.23781564e-01]\n",
      " [  7.00000000e+00   1.01300000e+03   7.11689746e-01   6.69063189e-01\n",
      "    6.47024157e-01   6.65367789e-01   6.90778324e-01   7.17908715e-01\n",
      "    7.02599679e-01   7.53733222e-01   7.46692521e-01   7.49015609e-01\n",
      "    8.55504423e-01   7.97481916e-01   8.02063542e-01   8.37022414e-01\n",
      "    7.65689863e-01   7.75041907e-01   8.12384563e-01]\n",
      " [  8.00000000e+00   1.11000000e+03   2.72971807e-01   2.28981757e-01\n",
      "    1.95602904e-01   2.04366803e-01   2.14499922e-01   2.51920008e-01\n",
      "    2.26321356e-01   2.93008147e-01   2.85137587e-01   2.83161291e-01\n",
      "    4.99588399e-01   3.89456124e-01   3.78643801e-01   5.04545196e-01\n",
      "    5.08213097e-01   4.94043664e-01   4.55449471e-01]\n",
      " [  9.00000000e+00   1.21000000e+03   2.56921797e-01   2.12766467e-01\n",
      "    1.90581053e-01   1.96510046e-01   2.10837474e-01   2.42256510e-01\n",
      "    2.20562153e-01   2.81663070e-01   2.78180867e-01   2.71301944e-01\n",
      "    4.83987129e-01   3.83360215e-01   3.54405833e-01   4.86128378e-01\n",
      "    4.91550307e-01   4.85399928e-01   4.41783262e-01]\n",
      " [  1.00000000e+01   1.32400000e+03   2.42701054e-01   2.03342361e-01\n",
      "    1.94520408e-01   1.89463869e-01   2.09773499e-01   2.40298893e-01\n",
      "    2.08343458e-01   2.74533282e-01   2.74749290e-01   2.57420274e-01\n",
      "    4.75112858e-01   4.04961393e-01   3.29801711e-01   4.94496673e-01\n",
      "    4.81581174e-01   4.81243614e-01   4.34592762e-01]\n",
      " [  1.10000000e+01   1.41000000e+03   2.42245900e-01   2.10999913e-01\n",
      "    1.96831190e-01   1.89096937e-01   2.07138084e-01   2.35284722e-01\n",
      "    2.05473280e-01   2.72071975e-01   2.69453884e-01   2.54398425e-01\n",
      "    4.62590227e-01   4.22749715e-01   3.23067663e-01   4.87982126e-01\n",
      "    4.79215140e-01   4.81102855e-01   4.38431692e-01]\n",
      " [  1.20000000e+01   1.51000000e+03   2.48880759e-01   2.18977730e-01\n",
      "    2.00074890e-01   1.90976731e-01   2.11107473e-01   2.40789424e-01\n",
      "    2.04338124e-01   2.75227316e-01   2.60979847e-01   2.50826566e-01\n",
      "    4.57532793e-01   4.15978834e-01   3.11481734e-01   4.71258962e-01\n",
      "    4.81535600e-01   4.90528815e-01   4.46727461e-01]]\n",
      "[[  1.00000000e+00   1.20000000e+03  -9.99000000e+02   1.00000000e+01\n",
      "    1.10000000e+01   1.20000000e+01   2.00000000e+01   2.10000000e+01\n",
      "    2.20000000e+01   3.00000000e+01   3.10000000e+01   3.20000000e+01\n",
      "    4.00000000e+01   4.10000000e+01   4.20000000e+01   4.30000000e+01\n",
      "    8.88000000e+02   9.97000000e+02   9.98000000e+02]\n",
      " [  2.00000000e+00   1.31500000e+03  -9.99000000e+02   1.00000000e+01\n",
      "    1.10000000e+01   1.20000000e+01   2.00000000e+01   2.10000000e+01\n",
      "    2.20000000e+01   3.00000000e+01   3.10000000e+01   3.20000000e+01\n",
      "    4.00000000e+01   4.10000000e+01   4.20000000e+01   4.30000000e+01\n",
      "    8.88000000e+02   9.97000000e+02   9.98000000e+02]\n",
      " [  3.00000000e+00   1.41000000e+03  -9.99000000e+02   1.00000000e+01\n",
      "    1.10000000e+01   1.20000000e+01   2.00000000e+01   2.10000000e+01\n",
      "    2.20000000e+01   3.00000000e+01   3.10000000e+01   3.20000000e+01\n",
      "    4.00000000e+01   4.10000000e+01   4.20000000e+01   4.30000000e+01\n",
      "    8.88000000e+02   9.97000000e+02   9.98000000e+02]\n",
      " [  4.00000000e+00   1.51000000e+03  -9.99000000e+02   1.00000000e+01\n",
      "    1.10000000e+01   1.20000000e+01   2.00000000e+01   2.10000000e+01\n",
      "    2.20000000e+01   3.00000000e+01   3.10000000e+01   3.20000000e+01\n",
      "    4.00000000e+01   4.10000000e+01   4.20000000e+01   4.30000000e+01\n",
      "    8.88000000e+02   9.97000000e+02   9.98000000e+02]\n",
      " [  5.00000000e+00   8.17000000e+02  -9.99000000e+02   1.00000000e+01\n",
      "    1.10000000e+01   1.20000000e+01   2.00000000e+01   2.10000000e+01\n",
      "    2.20000000e+01   3.00000000e+01   3.10000000e+01   3.20000000e+01\n",
      "    4.00000000e+01   4.10000000e+01   4.20000000e+01   4.30000000e+01\n",
      "    8.88000000e+02   9.97000000e+02   9.98000000e+02]\n",
      " [  6.00000000e+00   9.32000000e+02  -9.99000000e+02   1.00000000e+01\n",
      "    1.10000000e+01   1.20000000e+01   2.00000000e+01   2.10000000e+01\n",
      "    2.20000000e+01   3.00000000e+01   3.10000000e+01   3.20000000e+01\n",
      "    4.00000000e+01   4.10000000e+01   4.20000000e+01   4.30000000e+01\n",
      "    8.88000000e+02   9.97000000e+02   9.98000000e+02]\n",
      " [  7.00000000e+00   1.01300000e+03  -9.99000000e+02   1.00000000e+01\n",
      "    1.10000000e+01   1.20000000e+01   2.00000000e+01   2.10000000e+01\n",
      "    2.20000000e+01   3.00000000e+01   3.10000000e+01   3.20000000e+01\n",
      "    4.00000000e+01   4.10000000e+01   4.20000000e+01   4.30000000e+01\n",
      "    8.88000000e+02   9.97000000e+02   9.98000000e+02]\n",
      " [  8.00000000e+00   1.11000000e+03  -9.99000000e+02   1.00000000e+01\n",
      "    1.10000000e+01   1.20000000e+01   2.00000000e+01   2.10000000e+01\n",
      "    2.20000000e+01   3.00000000e+01   3.10000000e+01   3.20000000e+01\n",
      "    4.00000000e+01   4.10000000e+01   4.20000000e+01   4.30000000e+01\n",
      "    8.88000000e+02   9.97000000e+02   9.98000000e+02]\n",
      " [  9.00000000e+00   1.21000000e+03  -9.99000000e+02   1.00000000e+01\n",
      "    1.10000000e+01   1.20000000e+01   2.00000000e+01   2.10000000e+01\n",
      "    2.20000000e+01   3.00000000e+01   3.10000000e+01   3.20000000e+01\n",
      "    4.00000000e+01   4.10000000e+01   4.20000000e+01   4.30000000e+01\n",
      "    8.88000000e+02   9.97000000e+02   9.98000000e+02]\n",
      " [  1.00000000e+01   1.32400000e+03  -9.99000000e+02   1.00000000e+01\n",
      "    1.10000000e+01   1.20000000e+01   2.00000000e+01   2.10000000e+01\n",
      "    2.20000000e+01   3.00000000e+01   3.10000000e+01   3.20000000e+01\n",
      "    4.00000000e+01   4.10000000e+01   4.20000000e+01   4.30000000e+01\n",
      "    8.88000000e+02   9.97000000e+02   9.98000000e+02]\n",
      " [  1.10000000e+01   1.41000000e+03  -9.99000000e+02   1.00000000e+01\n",
      "    1.10000000e+01   1.20000000e+01   2.00000000e+01   2.10000000e+01\n",
      "    2.20000000e+01   3.00000000e+01   3.10000000e+01   3.20000000e+01\n",
      "    4.00000000e+01   4.10000000e+01   4.20000000e+01   4.30000000e+01\n",
      "    8.88000000e+02   9.97000000e+02   9.98000000e+02]\n",
      " [  1.20000000e+01   1.51000000e+03  -9.99000000e+02   1.00000000e+01\n",
      "    1.10000000e+01   1.20000000e+01   2.00000000e+01   2.10000000e+01\n",
      "    2.20000000e+01   3.00000000e+01   3.10000000e+01   3.20000000e+01\n",
      "    4.00000000e+01   4.10000000e+01   4.20000000e+01   4.30000000e+01\n",
      "    8.88000000e+02   9.97000000e+02   9.98000000e+02]]\n"
     ]
    }
   ],
   "source": [
    "# get the number of treatments and unique list of treatments\n",
    "for dbf_file in arcpy.ListFiles(\"*ndvistat.dbf\"):\n",
    "    # get # of treatments\n",
    "    nTreatments = arcpy.GetCount_management(dbf_file)\n",
    "    \n",
    "    # get unique list of treatments\n",
    "    field = 'Value'\n",
    "    values = [row[0] for row in arcpy.da.SearchCursor(dbf_file, field)]\n",
    "    treatments = set(values)\n",
    "    \n",
    "# clear temp variables\n",
    "del dbf_file\n",
    "del values\n",
    "    \n",
    "# create empty array to update\n",
    "nrow = len(arcpy.ListFiles(\"*ndvistat.dbf\"))          # the number of rows wanted in array, equal to # of rasters in list\n",
    "ncol = len(treatments) + 2                            # the number of cols wanted in array, change to 2 if want flight time\n",
    "s = (nrow,ncol)                                       # temp variable setting # of rows and cols\n",
    "avg_table = np.zeros(s, dtype=float)                  # create table of '0's\n",
    "hdr_table = np.zeros(s, dtype=float)                  # create table of '0's\n",
    "del nrow\n",
    "del s\n",
    "\n",
    "# update avg table\n",
    "# set temp row and col counters to update\n",
    "rc = 0\n",
    "cc = 0\n",
    "# loop through dbf files in directory\n",
    "for dbf_file in arcpy.ListFiles(\"*ndvistat.dbf\"):\n",
    "    \n",
    "    # get flight number from file name and append to table\n",
    "    t = dbf_file.split('F')[1]\n",
    "    t = t.split('_')[0]\n",
    "    avg_table[rc,cc] = t\n",
    "    hdr_table[rc,cc] = t\n",
    "    cc = cc + 1\n",
    "    del t\n",
    "    \n",
    "    # get flight time and append to table\n",
    "    t = dbf_file.split('_')[1]  # t = temp variable to store time in\n",
    "    avg_table[rc,cc] = t\n",
    "    hdr_table[rc,cc] = t\n",
    "    cc = cc + 1\n",
    "    del t                 # clear temporary 't' variable\n",
    "    \n",
    "    fields = ['Value','MEAN']\n",
    "    with arcpy.da.SearchCursor(dbf_file, fields) as cursor:\n",
    "        for row in cursor:\n",
    "            h=row[0]\n",
    "            v=row[1]\n",
    "            avg_table[rc,cc] = v\n",
    "            hdr_table[rc,cc] = h\n",
    "            cc = cc + 1\n",
    "            del h\n",
    "            del v     \n",
    "            \n",
    "    rc = rc + 1\n",
    "    cc = 0\n",
    "\n",
    "print(avg_table)\n",
    "print(hdr_table)"
   ]
  },
  {
   "cell_type": "code",
   "execution_count": 14,
   "metadata": {},
   "outputs": [
    {
     "data": {
      "text/plain": [
       "<matplotlib.legend.Legend at 0x2f4d2e613c8>"
      ]
     },
     "execution_count": 14,
     "metadata": {},
     "output_type": "execute_result"
    },
    {
     "data": {
      "image/png": "[encoded data removed]",
      "text/plain": [
       "<matplotlib.figure.Figure at 0x2f4d2dea048>"
      ]
     },
     "metadata": {},
     "output_type": "display_data"
    }
   ],
   "source": [
    "start=4 # this leaves out the first 4 day 1 flights\n",
    "end=11\n",
    "plt.plot(avg_table[start:end,1], avg_table[start:end,15])\n",
    "plt.scatter(avg_table[4:11,1], avg_table[4:11,15])\n",
    "plt.plot(avg_table[4:11,1], avg_table[4:11,17])\n",
    "plt.scatter(avg_table[4:11,1], avg_table[4:11,17])\n",
    "plt.plot(avg_table[4:11,1], avg_table[4:11,2])\n",
    "plt.scatter(avg_table[4:11,1], avg_table[4:11,2])\n",
    "plt.plot(avg_table[4:11,1], avg_table[4:11,5])\n",
    "plt.scatter(avg_table[4:11,1], avg_table[4:11,5])\n",
    "plt.plot(avg_table[4:11,1], avg_table[4:11,8])\n",
    "plt.scatter(avg_table[4:11,1], avg_table[4:11,8])\n",
    "plt.plot(avg_table[4:11,1], avg_table[4:11,11])\n",
    "plt.scatter(avg_table[4:11,1], avg_table[4:11,11])\n",
    "\n",
    "\n",
    "\n",
    "\n",
    "plt.xlabel('flight')\n",
    "plt.ylabel('mean ndvi')\n",
    "plt.legend(('water','control', 'tx=1','tx=2','tx=3', 'tx=4'),\n",
    "           loc='upper right')"
   ]
  },
  {
   "cell_type": "code",
   "execution_count": 15,
   "metadata": {},
   "outputs": [
    {
     "data": {
      "text/plain": [
       "<matplotlib.legend.Legend at 0x2f4d3f0f630>"
      ]
     },
     "execution_count": 15,
     "metadata": {},
     "output_type": "execute_result"
    },
    {
     "data": {
      "image/png": "[encoded data removed]",
      "text/plain": [
       "<matplotlib.figure.Figure at 0x2f4d2ec9cf8>"
      ]
     },
     "metadata": {},
     "output_type": "display_data"
    }
   ],
   "source": [
    "start=4 # this leaves out the first 4 day 1 flights\n",
    "end=11\n",
    "\n",
    "plt.plot(avg_table[start:end,1], avg_table[start:end,15])\n",
    "plt.scatter(avg_table[start:end,1], avg_table[start:end,15])\n",
    "plt.plot(avg_table[start:end,1], avg_table[start:end,11])\n",
    "plt.scatter(avg_table[start:end,1], avg_table[start:end,11])\n",
    "plt.plot(avg_table[start:end,1], avg_table[start:end,2])\n",
    "plt.scatter(avg_table[start:end,1], avg_table[start:end,2])\n",
    "plt.xlabel('flight')\n",
    "plt.ylabel('mean ndvi')\n",
    "plt.legend(('water', 'tx=4', 'tx=1'),\n",
    "           loc='upper right')"
   ]
  }
 ],
 "metadata": {
  "kernelspec": {
   "display_name": "Python 3",
   "language": "python",
   "name": "python3"
  },
  "language_info": {
   "codemirror_mode": {
    "name": "ipython",
    "version": 3
   },
   "file_extension": ".py",
   "mimetype": "text/x-python",
   "name": "python",
   "nbconvert_exporter": "python",
   "pygments_lexer": "ipython3",
   "version": "3.6.2"
  }
 },
 "nbformat": 4,
 "nbformat_minor": 2
}
